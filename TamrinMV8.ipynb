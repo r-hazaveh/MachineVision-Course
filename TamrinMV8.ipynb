{
  "nbformat": 4,
  "nbformat_minor": 0,
  "metadata": {
    "colab": {
      "provenance": []
    },
    "kernelspec": {
      "name": "python3",
      "display_name": "Python 3"
    },
    "language_info": {
      "name": "python"
    }
  },
  "cells": [
    {
      "cell_type": "code",
      "execution_count": null,
      "metadata": {
        "id": "sQdOUwEt_T6v"
      },
      "outputs": [],
      "source": [
        "import cv2\n",
        "import numpy as np\n",
        "from matplotlib import pyplot as plt\n",
        "\n",
        "# Load the image in grayscale\n",
        "image_path = \"D:/adad.jpg\"  # Change this to your actual path\n",
        "original_image = cv2.imread(image_path, cv2.IMREAD_GRAYSCALE)\n",
        "\n",
        "# Noise removal using median blur\n",
        "noise_removed_image = cv2.medianBlur(original_image, 5)\n",
        "\n",
        "# Thresholding methods\n",
        "_, output1 = cv2.threshold(original_image, 127, 255, cv2.THRESH_BINARY)\n",
        "output2 = cv2.adaptiveThreshold(original_image, 255, cv2.ADAPTIVE_THRESH_MEAN_C,\n",
        "                                cv2.THRESH_BINARY, 11, 2)\n",
        "output3 = cv2.adaptiveThreshold(original_image, 255, cv2.ADAPTIVE_THRESH_GAUSSIAN_C,\n",
        "                                cv2.THRESH_BINARY, 11, 2)\n",
        "\n",
        "_, output4 = cv2.threshold(noise_removed_image, 127, 255, cv2.THRESH_BINARY)\n",
        "output5 = cv2.adaptiveThreshold(noise_removed_image, 255, cv2.ADAPTIVE_THRESH_MEAN_C,\n",
        "                                cv2.THRESH_BINARY, 11, 2)\n",
        "output6 = cv2.adaptiveThreshold(noise_removed_image, 255, cv2.ADAPTIVE_THRESH_GAUSSIAN_C,\n",
        "                                cv2.THRESH_BINARY, 11, 2)\n",
        "\n",
        "# Plot all the outputs\n",
        "plt.figure(figsize=[15, 15])\n",
        "\n",
        "plt.subplot(331); plt.imshow(original_image, cmap='gray'); plt.title(\"Original\")\n",
        "plt.subplot(332); plt.imshow(noise_removed_image, cmap='gray'); plt.title(\"Noise removed\")\n",
        "\n",
        "plt.subplot(334); plt.imshow(output1, cmap='gray'); plt.title(\"Global Thresholding (v = 127)\")\n",
        "plt.subplot(335); plt.imshow(output2, cmap='gray'); plt.title(\"Adaptive Mean Thresholding\")\n",
        "plt.subplot(336); plt.imshow(output3, cmap='gray'); plt.title(\"Adaptive Gaussian Thresholding\")\n",
        "\n",
        "plt.subplot(337); plt.imshow(output4, cmap='gray'); plt.title(\"Global Thresholding + noise removal\")\n",
        "plt.subplot(338); plt.imshow(output5, cmap='gray'); plt.title(\"Adaptive Mean + noise removal\")\n",
        "plt.subplot(339); plt.imshow(output6, cmap='gray'); plt.title(\"Adaptive Gaussian + noise removal\")\n",
        "\n",
        "plt.tight_layout()\n",
        "plt.show()\n"
      ]
    }
  ]
}