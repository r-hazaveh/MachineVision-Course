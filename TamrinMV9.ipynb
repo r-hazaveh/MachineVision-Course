{
  "nbformat": 4,
  "nbformat_minor": 0,
  "metadata": {
    "colab": {
      "provenance": []
    },
    "kernelspec": {
      "name": "python3",
      "display_name": "Python 3"
    },
    "language_info": {
      "name": "python"
    }
  },
  "cells": [
    {
      "cell_type": "code",
      "execution_count": null,
      "metadata": {
        "id": "Pq6Rm5KPnQGU"
      },
      "outputs": [],
      "source": [
        "# انتخاب بهترین تصویر آستانه‌گذاری (با نویز کمتر و ارقام سفید روی پس‌زمینه‌ی سیاه)\n",
        "# اگر ارقام سیاه و پس‌زمینه سفید بود، ابتدا معکوس کنیم:\n",
        "binary_image = cv2.bitwise_not(output6)\n",
        "\n",
        "# شمارش مؤلفه‌های متصل\n",
        "num_labels, labels_im = cv2.connectedComponents(binary_image)\n",
        "\n",
        "# کم کردن 1 برای حذف پس‌زمینه\n",
        "num_digits = num_labels - 1\n",
        "\n",
        "print(\"تعداد ارقام روی کاغذ:\", num_digits)\n",
        "\n",
        "# نمایش تصویر برچسب‌گذاری‌شده (اختیاری)\n",
        "plt.imshow(labels_im, cmap='nipy_spectral')\n",
        "plt.title(\"Connected Components\")\n",
        "plt.axis('off')\n",
        "plt.show()\n"
      ]
    }
  ]
}