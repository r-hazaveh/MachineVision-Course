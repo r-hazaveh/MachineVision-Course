{
 "cells": [
  {
   "cell_type": "code",
   "id": "initial_id",
   "metadata": {
    "collapsed": true,
    "ExecuteTime": {
     "end_time": "2025-04-11T04:16:15.251312Z",
     "start_time": "2025-04-11T04:15:41.716389Z"
    }
   },
   "source": [
    "import numpy as np\n",
    "import cv2\n",
    "\n",
    "# تابع کمکی خالی برای Trackbar\n",
    "def nothing(x):\n",
    "    pass\n",
    "\n",
    "# ایجاد صفحه سفید برای نقاشی\n",
    "canvas = np.ones((512, 512, 3), dtype=np.uint8) * 255\n",
    "\n",
    "# ساخت پنجره\n",
    "cv2.namedWindow('Paint')\n",
    "\n",
    "# ایجاد Trackbar برای رنگ و اندازه قلم\n",
    "cv2.createTrackbar('R', 'Paint', 0, 255, nothing)\n",
    "cv2.createTrackbar('G', 'Paint', 0, 255, nothing)\n",
    "cv2.createTrackbar('B', 'Paint', 0, 255, nothing)\n",
    "cv2.createTrackbar('Pen Size', 'Paint', 1, 50, nothing)\n",
    "\n",
    "# متغیرهای حالت رسم\n",
    "drawing = False  # وقتی موس پایین است رسم کنیم\n",
    "ix, iy = -1, -1  # موقعیت قبلی موس\n",
    "\n",
    "# تابع مدیریت موس\n",
    "def draw(event, x, y, flags, param):\n",
    "    global ix, iy, drawing, canvas\n",
    "\n",
    "    if event == cv2.EVENT_LBUTTONDOWN:\n",
    "        drawing = True\n",
    "        ix, iy = x, y\n",
    "\n",
    "    elif event == cv2.EVENT_MOUSEMOVE:\n",
    "        if drawing:\n",
    "            r = cv2.getTrackbarPos('R', 'Paint')\n",
    "            g = cv2.getTrackbarPos('G', 'Paint')\n",
    "            b = cv2.getTrackbarPos('B', 'Paint')\n",
    "            size = cv2.getTrackbarPos('Pen Size', 'Paint')\n",
    "            cv2.line(canvas, (ix, iy), (x, y), (b, g, r), size)\n",
    "            ix, iy = x, y\n",
    "\n",
    "    elif event == cv2.EVENT_LBUTTONUP:\n",
    "        drawing = False\n",
    "\n",
    "cv2.setMouseCallback('Paint', draw)\n",
    "\n",
    "# حلقه اصلی\n",
    "while True:\n",
    "    cv2.imshow('Paint', canvas)\n",
    "    if cv2.waitKey(1) & 0xFF == 27:  # ESC برای خروج\n",
    "        break\n",
    "\n",
    "cv2.destroyAllWindows()\n"
   ],
   "outputs": [
    {
     "ename": "error",
     "evalue": "OpenCV(4.11.0) D:\\a\\opencv-python\\opencv-python\\opencv\\modules\\imgproc\\src\\drawing.cpp:1823: error: (-215:Assertion failed) 0 < thickness && thickness <= MAX_THICKNESS in function 'cv::line'\n",
     "output_type": "error",
     "traceback": [
      "\u001B[31m---------------------------------------------------------------------------\u001B[39m",
      "\u001B[31merror\u001B[39m                                     Traceback (most recent call last)",
      "\u001B[36mCell\u001B[39m\u001B[36m \u001B[39m\u001B[32mIn[1]\u001B[39m\u001B[32m, line 38\u001B[39m, in \u001B[36mdraw\u001B[39m\u001B[34m(event, x, y, flags, param)\u001B[39m\n\u001B[32m     36\u001B[39m         b = cv2.getTrackbarPos(\u001B[33m'\u001B[39m\u001B[33mB\u001B[39m\u001B[33m'\u001B[39m, \u001B[33m'\u001B[39m\u001B[33mPaint\u001B[39m\u001B[33m'\u001B[39m)\n\u001B[32m     37\u001B[39m         size = cv2.getTrackbarPos(\u001B[33m'\u001B[39m\u001B[33mPen Size\u001B[39m\u001B[33m'\u001B[39m, \u001B[33m'\u001B[39m\u001B[33mPaint\u001B[39m\u001B[33m'\u001B[39m)\n\u001B[32m---> \u001B[39m\u001B[32m38\u001B[39m         \u001B[43mcv2\u001B[49m\u001B[43m.\u001B[49m\u001B[43mline\u001B[49m\u001B[43m(\u001B[49m\u001B[43mcanvas\u001B[49m\u001B[43m,\u001B[49m\u001B[43m \u001B[49m\u001B[43m(\u001B[49m\u001B[43mix\u001B[49m\u001B[43m,\u001B[49m\u001B[43m \u001B[49m\u001B[43miy\u001B[49m\u001B[43m)\u001B[49m\u001B[43m,\u001B[49m\u001B[43m \u001B[49m\u001B[43m(\u001B[49m\u001B[43mx\u001B[49m\u001B[43m,\u001B[49m\u001B[43m \u001B[49m\u001B[43my\u001B[49m\u001B[43m)\u001B[49m\u001B[43m,\u001B[49m\u001B[43m \u001B[49m\u001B[43m(\u001B[49m\u001B[43mb\u001B[49m\u001B[43m,\u001B[49m\u001B[43m \u001B[49m\u001B[43mg\u001B[49m\u001B[43m,\u001B[49m\u001B[43m \u001B[49m\u001B[43mr\u001B[49m\u001B[43m)\u001B[49m\u001B[43m,\u001B[49m\u001B[43m \u001B[49m\u001B[43msize\u001B[49m\u001B[43m)\u001B[49m\n\u001B[32m     39\u001B[39m         ix, iy = x, y\n\u001B[32m     41\u001B[39m \u001B[38;5;28;01melif\u001B[39;00m event == cv2.EVENT_LBUTTONUP:\n",
      "\u001B[31merror\u001B[39m: OpenCV(4.11.0) D:\\a\\opencv-python\\opencv-python\\opencv\\modules\\imgproc\\src\\drawing.cpp:1823: error: (-215:Assertion failed) 0 < thickness && thickness <= MAX_THICKNESS in function 'cv::line'\n"
     ]
    },
    {
     "ename": "error",
     "evalue": "OpenCV(4.11.0) D:\\a\\opencv-python\\opencv-python\\opencv\\modules\\imgproc\\src\\drawing.cpp:1823: error: (-215:Assertion failed) 0 < thickness && thickness <= MAX_THICKNESS in function 'cv::line'\n",
     "output_type": "error",
     "traceback": [
      "\u001B[31m---------------------------------------------------------------------------\u001B[39m",
      "\u001B[31merror\u001B[39m                                     Traceback (most recent call last)",
      "\u001B[36mCell\u001B[39m\u001B[36m \u001B[39m\u001B[32mIn[1]\u001B[39m\u001B[32m, line 38\u001B[39m, in \u001B[36mdraw\u001B[39m\u001B[34m(event, x, y, flags, param)\u001B[39m\n\u001B[32m     36\u001B[39m         b = cv2.getTrackbarPos(\u001B[33m'\u001B[39m\u001B[33mB\u001B[39m\u001B[33m'\u001B[39m, \u001B[33m'\u001B[39m\u001B[33mPaint\u001B[39m\u001B[33m'\u001B[39m)\n\u001B[32m     37\u001B[39m         size = cv2.getTrackbarPos(\u001B[33m'\u001B[39m\u001B[33mPen Size\u001B[39m\u001B[33m'\u001B[39m, \u001B[33m'\u001B[39m\u001B[33mPaint\u001B[39m\u001B[33m'\u001B[39m)\n\u001B[32m---> \u001B[39m\u001B[32m38\u001B[39m         \u001B[43mcv2\u001B[49m\u001B[43m.\u001B[49m\u001B[43mline\u001B[49m\u001B[43m(\u001B[49m\u001B[43mcanvas\u001B[49m\u001B[43m,\u001B[49m\u001B[43m \u001B[49m\u001B[43m(\u001B[49m\u001B[43mix\u001B[49m\u001B[43m,\u001B[49m\u001B[43m \u001B[49m\u001B[43miy\u001B[49m\u001B[43m)\u001B[49m\u001B[43m,\u001B[49m\u001B[43m \u001B[49m\u001B[43m(\u001B[49m\u001B[43mx\u001B[49m\u001B[43m,\u001B[49m\u001B[43m \u001B[49m\u001B[43my\u001B[49m\u001B[43m)\u001B[49m\u001B[43m,\u001B[49m\u001B[43m \u001B[49m\u001B[43m(\u001B[49m\u001B[43mb\u001B[49m\u001B[43m,\u001B[49m\u001B[43m \u001B[49m\u001B[43mg\u001B[49m\u001B[43m,\u001B[49m\u001B[43m \u001B[49m\u001B[43mr\u001B[49m\u001B[43m)\u001B[49m\u001B[43m,\u001B[49m\u001B[43m \u001B[49m\u001B[43msize\u001B[49m\u001B[43m)\u001B[49m\n\u001B[32m     39\u001B[39m         ix, iy = x, y\n\u001B[32m     41\u001B[39m \u001B[38;5;28;01melif\u001B[39;00m event == cv2.EVENT_LBUTTONUP:\n",
      "\u001B[31merror\u001B[39m: OpenCV(4.11.0) D:\\a\\opencv-python\\opencv-python\\opencv\\modules\\imgproc\\src\\drawing.cpp:1823: error: (-215:Assertion failed) 0 < thickness && thickness <= MAX_THICKNESS in function 'cv::line'\n"
     ]
    },
    {
     "ename": "error",
     "evalue": "OpenCV(4.11.0) D:\\a\\opencv-python\\opencv-python\\opencv\\modules\\imgproc\\src\\drawing.cpp:1823: error: (-215:Assertion failed) 0 < thickness && thickness <= MAX_THICKNESS in function 'cv::line'\n",
     "output_type": "error",
     "traceback": [
      "\u001B[31m---------------------------------------------------------------------------\u001B[39m",
      "\u001B[31merror\u001B[39m                                     Traceback (most recent call last)",
      "\u001B[36mCell\u001B[39m\u001B[36m \u001B[39m\u001B[32mIn[1]\u001B[39m\u001B[32m, line 38\u001B[39m, in \u001B[36mdraw\u001B[39m\u001B[34m(event, x, y, flags, param)\u001B[39m\n\u001B[32m     36\u001B[39m         b = cv2.getTrackbarPos(\u001B[33m'\u001B[39m\u001B[33mB\u001B[39m\u001B[33m'\u001B[39m, \u001B[33m'\u001B[39m\u001B[33mPaint\u001B[39m\u001B[33m'\u001B[39m)\n\u001B[32m     37\u001B[39m         size = cv2.getTrackbarPos(\u001B[33m'\u001B[39m\u001B[33mPen Size\u001B[39m\u001B[33m'\u001B[39m, \u001B[33m'\u001B[39m\u001B[33mPaint\u001B[39m\u001B[33m'\u001B[39m)\n\u001B[32m---> \u001B[39m\u001B[32m38\u001B[39m         \u001B[43mcv2\u001B[49m\u001B[43m.\u001B[49m\u001B[43mline\u001B[49m\u001B[43m(\u001B[49m\u001B[43mcanvas\u001B[49m\u001B[43m,\u001B[49m\u001B[43m \u001B[49m\u001B[43m(\u001B[49m\u001B[43mix\u001B[49m\u001B[43m,\u001B[49m\u001B[43m \u001B[49m\u001B[43miy\u001B[49m\u001B[43m)\u001B[49m\u001B[43m,\u001B[49m\u001B[43m \u001B[49m\u001B[43m(\u001B[49m\u001B[43mx\u001B[49m\u001B[43m,\u001B[49m\u001B[43m \u001B[49m\u001B[43my\u001B[49m\u001B[43m)\u001B[49m\u001B[43m,\u001B[49m\u001B[43m \u001B[49m\u001B[43m(\u001B[49m\u001B[43mb\u001B[49m\u001B[43m,\u001B[49m\u001B[43m \u001B[49m\u001B[43mg\u001B[49m\u001B[43m,\u001B[49m\u001B[43m \u001B[49m\u001B[43mr\u001B[49m\u001B[43m)\u001B[49m\u001B[43m,\u001B[49m\u001B[43m \u001B[49m\u001B[43msize\u001B[49m\u001B[43m)\u001B[49m\n\u001B[32m     39\u001B[39m         ix, iy = x, y\n\u001B[32m     41\u001B[39m \u001B[38;5;28;01melif\u001B[39;00m event == cv2.EVENT_LBUTTONUP:\n",
      "\u001B[31merror\u001B[39m: OpenCV(4.11.0) D:\\a\\opencv-python\\opencv-python\\opencv\\modules\\imgproc\\src\\drawing.cpp:1823: error: (-215:Assertion failed) 0 < thickness && thickness <= MAX_THICKNESS in function 'cv::line'\n"
     ]
    },
    {
     "ename": "error",
     "evalue": "OpenCV(4.11.0) D:\\a\\opencv-python\\opencv-python\\opencv\\modules\\imgproc\\src\\drawing.cpp:1823: error: (-215:Assertion failed) 0 < thickness && thickness <= MAX_THICKNESS in function 'cv::line'\n",
     "output_type": "error",
     "traceback": [
      "\u001B[31m---------------------------------------------------------------------------\u001B[39m",
      "\u001B[31merror\u001B[39m                                     Traceback (most recent call last)",
      "\u001B[36mCell\u001B[39m\u001B[36m \u001B[39m\u001B[32mIn[1]\u001B[39m\u001B[32m, line 38\u001B[39m, in \u001B[36mdraw\u001B[39m\u001B[34m(event, x, y, flags, param)\u001B[39m\n\u001B[32m     36\u001B[39m         b = cv2.getTrackbarPos(\u001B[33m'\u001B[39m\u001B[33mB\u001B[39m\u001B[33m'\u001B[39m, \u001B[33m'\u001B[39m\u001B[33mPaint\u001B[39m\u001B[33m'\u001B[39m)\n\u001B[32m     37\u001B[39m         size = cv2.getTrackbarPos(\u001B[33m'\u001B[39m\u001B[33mPen Size\u001B[39m\u001B[33m'\u001B[39m, \u001B[33m'\u001B[39m\u001B[33mPaint\u001B[39m\u001B[33m'\u001B[39m)\n\u001B[32m---> \u001B[39m\u001B[32m38\u001B[39m         \u001B[43mcv2\u001B[49m\u001B[43m.\u001B[49m\u001B[43mline\u001B[49m\u001B[43m(\u001B[49m\u001B[43mcanvas\u001B[49m\u001B[43m,\u001B[49m\u001B[43m \u001B[49m\u001B[43m(\u001B[49m\u001B[43mix\u001B[49m\u001B[43m,\u001B[49m\u001B[43m \u001B[49m\u001B[43miy\u001B[49m\u001B[43m)\u001B[49m\u001B[43m,\u001B[49m\u001B[43m \u001B[49m\u001B[43m(\u001B[49m\u001B[43mx\u001B[49m\u001B[43m,\u001B[49m\u001B[43m \u001B[49m\u001B[43my\u001B[49m\u001B[43m)\u001B[49m\u001B[43m,\u001B[49m\u001B[43m \u001B[49m\u001B[43m(\u001B[49m\u001B[43mb\u001B[49m\u001B[43m,\u001B[49m\u001B[43m \u001B[49m\u001B[43mg\u001B[49m\u001B[43m,\u001B[49m\u001B[43m \u001B[49m\u001B[43mr\u001B[49m\u001B[43m)\u001B[49m\u001B[43m,\u001B[49m\u001B[43m \u001B[49m\u001B[43msize\u001B[49m\u001B[43m)\u001B[49m\n\u001B[32m     39\u001B[39m         ix, iy = x, y\n\u001B[32m     41\u001B[39m \u001B[38;5;28;01melif\u001B[39;00m event == cv2.EVENT_LBUTTONUP:\n",
      "\u001B[31merror\u001B[39m: OpenCV(4.11.0) D:\\a\\opencv-python\\opencv-python\\opencv\\modules\\imgproc\\src\\drawing.cpp:1823: error: (-215:Assertion failed) 0 < thickness && thickness <= MAX_THICKNESS in function 'cv::line'\n"
     ]
    },
    {
     "ename": "error",
     "evalue": "OpenCV(4.11.0) D:\\a\\opencv-python\\opencv-python\\opencv\\modules\\imgproc\\src\\drawing.cpp:1823: error: (-215:Assertion failed) 0 < thickness && thickness <= MAX_THICKNESS in function 'cv::line'\n",
     "output_type": "error",
     "traceback": [
      "\u001B[31m---------------------------------------------------------------------------\u001B[39m",
      "\u001B[31merror\u001B[39m                                     Traceback (most recent call last)",
      "\u001B[36mCell\u001B[39m\u001B[36m \u001B[39m\u001B[32mIn[1]\u001B[39m\u001B[32m, line 38\u001B[39m, in \u001B[36mdraw\u001B[39m\u001B[34m(event, x, y, flags, param)\u001B[39m\n\u001B[32m     36\u001B[39m         b = cv2.getTrackbarPos(\u001B[33m'\u001B[39m\u001B[33mB\u001B[39m\u001B[33m'\u001B[39m, \u001B[33m'\u001B[39m\u001B[33mPaint\u001B[39m\u001B[33m'\u001B[39m)\n\u001B[32m     37\u001B[39m         size = cv2.getTrackbarPos(\u001B[33m'\u001B[39m\u001B[33mPen Size\u001B[39m\u001B[33m'\u001B[39m, \u001B[33m'\u001B[39m\u001B[33mPaint\u001B[39m\u001B[33m'\u001B[39m)\n\u001B[32m---> \u001B[39m\u001B[32m38\u001B[39m         \u001B[43mcv2\u001B[49m\u001B[43m.\u001B[49m\u001B[43mline\u001B[49m\u001B[43m(\u001B[49m\u001B[43mcanvas\u001B[49m\u001B[43m,\u001B[49m\u001B[43m \u001B[49m\u001B[43m(\u001B[49m\u001B[43mix\u001B[49m\u001B[43m,\u001B[49m\u001B[43m \u001B[49m\u001B[43miy\u001B[49m\u001B[43m)\u001B[49m\u001B[43m,\u001B[49m\u001B[43m \u001B[49m\u001B[43m(\u001B[49m\u001B[43mx\u001B[49m\u001B[43m,\u001B[49m\u001B[43m \u001B[49m\u001B[43my\u001B[49m\u001B[43m)\u001B[49m\u001B[43m,\u001B[49m\u001B[43m \u001B[49m\u001B[43m(\u001B[49m\u001B[43mb\u001B[49m\u001B[43m,\u001B[49m\u001B[43m \u001B[49m\u001B[43mg\u001B[49m\u001B[43m,\u001B[49m\u001B[43m \u001B[49m\u001B[43mr\u001B[49m\u001B[43m)\u001B[49m\u001B[43m,\u001B[49m\u001B[43m \u001B[49m\u001B[43msize\u001B[49m\u001B[43m)\u001B[49m\n\u001B[32m     39\u001B[39m         ix, iy = x, y\n\u001B[32m     41\u001B[39m \u001B[38;5;28;01melif\u001B[39;00m event == cv2.EVENT_LBUTTONUP:\n",
      "\u001B[31merror\u001B[39m: OpenCV(4.11.0) D:\\a\\opencv-python\\opencv-python\\opencv\\modules\\imgproc\\src\\drawing.cpp:1823: error: (-215:Assertion failed) 0 < thickness && thickness <= MAX_THICKNESS in function 'cv::line'\n"
     ]
    },
    {
     "ename": "error",
     "evalue": "OpenCV(4.11.0) D:\\a\\opencv-python\\opencv-python\\opencv\\modules\\imgproc\\src\\drawing.cpp:1823: error: (-215:Assertion failed) 0 < thickness && thickness <= MAX_THICKNESS in function 'cv::line'\n",
     "output_type": "error",
     "traceback": [
      "\u001B[31m---------------------------------------------------------------------------\u001B[39m",
      "\u001B[31merror\u001B[39m                                     Traceback (most recent call last)",
      "\u001B[36mCell\u001B[39m\u001B[36m \u001B[39m\u001B[32mIn[1]\u001B[39m\u001B[32m, line 38\u001B[39m, in \u001B[36mdraw\u001B[39m\u001B[34m(event, x, y, flags, param)\u001B[39m\n\u001B[32m     36\u001B[39m         b = cv2.getTrackbarPos(\u001B[33m'\u001B[39m\u001B[33mB\u001B[39m\u001B[33m'\u001B[39m, \u001B[33m'\u001B[39m\u001B[33mPaint\u001B[39m\u001B[33m'\u001B[39m)\n\u001B[32m     37\u001B[39m         size = cv2.getTrackbarPos(\u001B[33m'\u001B[39m\u001B[33mPen Size\u001B[39m\u001B[33m'\u001B[39m, \u001B[33m'\u001B[39m\u001B[33mPaint\u001B[39m\u001B[33m'\u001B[39m)\n\u001B[32m---> \u001B[39m\u001B[32m38\u001B[39m         \u001B[43mcv2\u001B[49m\u001B[43m.\u001B[49m\u001B[43mline\u001B[49m\u001B[43m(\u001B[49m\u001B[43mcanvas\u001B[49m\u001B[43m,\u001B[49m\u001B[43m \u001B[49m\u001B[43m(\u001B[49m\u001B[43mix\u001B[49m\u001B[43m,\u001B[49m\u001B[43m \u001B[49m\u001B[43miy\u001B[49m\u001B[43m)\u001B[49m\u001B[43m,\u001B[49m\u001B[43m \u001B[49m\u001B[43m(\u001B[49m\u001B[43mx\u001B[49m\u001B[43m,\u001B[49m\u001B[43m \u001B[49m\u001B[43my\u001B[49m\u001B[43m)\u001B[49m\u001B[43m,\u001B[49m\u001B[43m \u001B[49m\u001B[43m(\u001B[49m\u001B[43mb\u001B[49m\u001B[43m,\u001B[49m\u001B[43m \u001B[49m\u001B[43mg\u001B[49m\u001B[43m,\u001B[49m\u001B[43m \u001B[49m\u001B[43mr\u001B[49m\u001B[43m)\u001B[49m\u001B[43m,\u001B[49m\u001B[43m \u001B[49m\u001B[43msize\u001B[49m\u001B[43m)\u001B[49m\n\u001B[32m     39\u001B[39m         ix, iy = x, y\n\u001B[32m     41\u001B[39m \u001B[38;5;28;01melif\u001B[39;00m event == cv2.EVENT_LBUTTONUP:\n",
      "\u001B[31merror\u001B[39m: OpenCV(4.11.0) D:\\a\\opencv-python\\opencv-python\\opencv\\modules\\imgproc\\src\\drawing.cpp:1823: error: (-215:Assertion failed) 0 < thickness && thickness <= MAX_THICKNESS in function 'cv::line'\n"
     ]
    },
    {
     "ename": "error",
     "evalue": "OpenCV(4.11.0) D:\\a\\opencv-python\\opencv-python\\opencv\\modules\\imgproc\\src\\drawing.cpp:1823: error: (-215:Assertion failed) 0 < thickness && thickness <= MAX_THICKNESS in function 'cv::line'\n",
     "output_type": "error",
     "traceback": [
      "\u001B[31m---------------------------------------------------------------------------\u001B[39m",
      "\u001B[31merror\u001B[39m                                     Traceback (most recent call last)",
      "\u001B[36mCell\u001B[39m\u001B[36m \u001B[39m\u001B[32mIn[1]\u001B[39m\u001B[32m, line 38\u001B[39m, in \u001B[36mdraw\u001B[39m\u001B[34m(event, x, y, flags, param)\u001B[39m\n\u001B[32m     36\u001B[39m         b = cv2.getTrackbarPos(\u001B[33m'\u001B[39m\u001B[33mB\u001B[39m\u001B[33m'\u001B[39m, \u001B[33m'\u001B[39m\u001B[33mPaint\u001B[39m\u001B[33m'\u001B[39m)\n\u001B[32m     37\u001B[39m         size = cv2.getTrackbarPos(\u001B[33m'\u001B[39m\u001B[33mPen Size\u001B[39m\u001B[33m'\u001B[39m, \u001B[33m'\u001B[39m\u001B[33mPaint\u001B[39m\u001B[33m'\u001B[39m)\n\u001B[32m---> \u001B[39m\u001B[32m38\u001B[39m         \u001B[43mcv2\u001B[49m\u001B[43m.\u001B[49m\u001B[43mline\u001B[49m\u001B[43m(\u001B[49m\u001B[43mcanvas\u001B[49m\u001B[43m,\u001B[49m\u001B[43m \u001B[49m\u001B[43m(\u001B[49m\u001B[43mix\u001B[49m\u001B[43m,\u001B[49m\u001B[43m \u001B[49m\u001B[43miy\u001B[49m\u001B[43m)\u001B[49m\u001B[43m,\u001B[49m\u001B[43m \u001B[49m\u001B[43m(\u001B[49m\u001B[43mx\u001B[49m\u001B[43m,\u001B[49m\u001B[43m \u001B[49m\u001B[43my\u001B[49m\u001B[43m)\u001B[49m\u001B[43m,\u001B[49m\u001B[43m \u001B[49m\u001B[43m(\u001B[49m\u001B[43mb\u001B[49m\u001B[43m,\u001B[49m\u001B[43m \u001B[49m\u001B[43mg\u001B[49m\u001B[43m,\u001B[49m\u001B[43m \u001B[49m\u001B[43mr\u001B[49m\u001B[43m)\u001B[49m\u001B[43m,\u001B[49m\u001B[43m \u001B[49m\u001B[43msize\u001B[49m\u001B[43m)\u001B[49m\n\u001B[32m     39\u001B[39m         ix, iy = x, y\n\u001B[32m     41\u001B[39m \u001B[38;5;28;01melif\u001B[39;00m event == cv2.EVENT_LBUTTONUP:\n",
      "\u001B[31merror\u001B[39m: OpenCV(4.11.0) D:\\a\\opencv-python\\opencv-python\\opencv\\modules\\imgproc\\src\\drawing.cpp:1823: error: (-215:Assertion failed) 0 < thickness && thickness <= MAX_THICKNESS in function 'cv::line'\n"
     ]
    },
    {
     "ename": "error",
     "evalue": "OpenCV(4.11.0) D:\\a\\opencv-python\\opencv-python\\opencv\\modules\\imgproc\\src\\drawing.cpp:1823: error: (-215:Assertion failed) 0 < thickness && thickness <= MAX_THICKNESS in function 'cv::line'\n",
     "output_type": "error",
     "traceback": [
      "\u001B[31m---------------------------------------------------------------------------\u001B[39m",
      "\u001B[31merror\u001B[39m                                     Traceback (most recent call last)",
      "\u001B[36mCell\u001B[39m\u001B[36m \u001B[39m\u001B[32mIn[1]\u001B[39m\u001B[32m, line 38\u001B[39m, in \u001B[36mdraw\u001B[39m\u001B[34m(event, x, y, flags, param)\u001B[39m\n\u001B[32m     36\u001B[39m         b = cv2.getTrackbarPos(\u001B[33m'\u001B[39m\u001B[33mB\u001B[39m\u001B[33m'\u001B[39m, \u001B[33m'\u001B[39m\u001B[33mPaint\u001B[39m\u001B[33m'\u001B[39m)\n\u001B[32m     37\u001B[39m         size = cv2.getTrackbarPos(\u001B[33m'\u001B[39m\u001B[33mPen Size\u001B[39m\u001B[33m'\u001B[39m, \u001B[33m'\u001B[39m\u001B[33mPaint\u001B[39m\u001B[33m'\u001B[39m)\n\u001B[32m---> \u001B[39m\u001B[32m38\u001B[39m         \u001B[43mcv2\u001B[49m\u001B[43m.\u001B[49m\u001B[43mline\u001B[49m\u001B[43m(\u001B[49m\u001B[43mcanvas\u001B[49m\u001B[43m,\u001B[49m\u001B[43m \u001B[49m\u001B[43m(\u001B[49m\u001B[43mix\u001B[49m\u001B[43m,\u001B[49m\u001B[43m \u001B[49m\u001B[43miy\u001B[49m\u001B[43m)\u001B[49m\u001B[43m,\u001B[49m\u001B[43m \u001B[49m\u001B[43m(\u001B[49m\u001B[43mx\u001B[49m\u001B[43m,\u001B[49m\u001B[43m \u001B[49m\u001B[43my\u001B[49m\u001B[43m)\u001B[49m\u001B[43m,\u001B[49m\u001B[43m \u001B[49m\u001B[43m(\u001B[49m\u001B[43mb\u001B[49m\u001B[43m,\u001B[49m\u001B[43m \u001B[49m\u001B[43mg\u001B[49m\u001B[43m,\u001B[49m\u001B[43m \u001B[49m\u001B[43mr\u001B[49m\u001B[43m)\u001B[49m\u001B[43m,\u001B[49m\u001B[43m \u001B[49m\u001B[43msize\u001B[49m\u001B[43m)\u001B[49m\n\u001B[32m     39\u001B[39m         ix, iy = x, y\n\u001B[32m     41\u001B[39m \u001B[38;5;28;01melif\u001B[39;00m event == cv2.EVENT_LBUTTONUP:\n",
      "\u001B[31merror\u001B[39m: OpenCV(4.11.0) D:\\a\\opencv-python\\opencv-python\\opencv\\modules\\imgproc\\src\\drawing.cpp:1823: error: (-215:Assertion failed) 0 < thickness && thickness <= MAX_THICKNESS in function 'cv::line'\n"
     ]
    },
    {
     "ename": "error",
     "evalue": "OpenCV(4.11.0) D:\\a\\opencv-python\\opencv-python\\opencv\\modules\\imgproc\\src\\drawing.cpp:1823: error: (-215:Assertion failed) 0 < thickness && thickness <= MAX_THICKNESS in function 'cv::line'\n",
     "output_type": "error",
     "traceback": [
      "\u001B[31m---------------------------------------------------------------------------\u001B[39m",
      "\u001B[31merror\u001B[39m                                     Traceback (most recent call last)",
      "\u001B[36mCell\u001B[39m\u001B[36m \u001B[39m\u001B[32mIn[1]\u001B[39m\u001B[32m, line 38\u001B[39m, in \u001B[36mdraw\u001B[39m\u001B[34m(event, x, y, flags, param)\u001B[39m\n\u001B[32m     36\u001B[39m         b = cv2.getTrackbarPos(\u001B[33m'\u001B[39m\u001B[33mB\u001B[39m\u001B[33m'\u001B[39m, \u001B[33m'\u001B[39m\u001B[33mPaint\u001B[39m\u001B[33m'\u001B[39m)\n\u001B[32m     37\u001B[39m         size = cv2.getTrackbarPos(\u001B[33m'\u001B[39m\u001B[33mPen Size\u001B[39m\u001B[33m'\u001B[39m, \u001B[33m'\u001B[39m\u001B[33mPaint\u001B[39m\u001B[33m'\u001B[39m)\n\u001B[32m---> \u001B[39m\u001B[32m38\u001B[39m         \u001B[43mcv2\u001B[49m\u001B[43m.\u001B[49m\u001B[43mline\u001B[49m\u001B[43m(\u001B[49m\u001B[43mcanvas\u001B[49m\u001B[43m,\u001B[49m\u001B[43m \u001B[49m\u001B[43m(\u001B[49m\u001B[43mix\u001B[49m\u001B[43m,\u001B[49m\u001B[43m \u001B[49m\u001B[43miy\u001B[49m\u001B[43m)\u001B[49m\u001B[43m,\u001B[49m\u001B[43m \u001B[49m\u001B[43m(\u001B[49m\u001B[43mx\u001B[49m\u001B[43m,\u001B[49m\u001B[43m \u001B[49m\u001B[43my\u001B[49m\u001B[43m)\u001B[49m\u001B[43m,\u001B[49m\u001B[43m \u001B[49m\u001B[43m(\u001B[49m\u001B[43mb\u001B[49m\u001B[43m,\u001B[49m\u001B[43m \u001B[49m\u001B[43mg\u001B[49m\u001B[43m,\u001B[49m\u001B[43m \u001B[49m\u001B[43mr\u001B[49m\u001B[43m)\u001B[49m\u001B[43m,\u001B[49m\u001B[43m \u001B[49m\u001B[43msize\u001B[49m\u001B[43m)\u001B[49m\n\u001B[32m     39\u001B[39m         ix, iy = x, y\n\u001B[32m     41\u001B[39m \u001B[38;5;28;01melif\u001B[39;00m event == cv2.EVENT_LBUTTONUP:\n",
      "\u001B[31merror\u001B[39m: OpenCV(4.11.0) D:\\a\\opencv-python\\opencv-python\\opencv\\modules\\imgproc\\src\\drawing.cpp:1823: error: (-215:Assertion failed) 0 < thickness && thickness <= MAX_THICKNESS in function 'cv::line'\n"
     ]
    },
    {
     "ename": "error",
     "evalue": "OpenCV(4.11.0) D:\\a\\opencv-python\\opencv-python\\opencv\\modules\\imgproc\\src\\drawing.cpp:1823: error: (-215:Assertion failed) 0 < thickness && thickness <= MAX_THICKNESS in function 'cv::line'\n",
     "output_type": "error",
     "traceback": [
      "\u001B[31m---------------------------------------------------------------------------\u001B[39m",
      "\u001B[31merror\u001B[39m                                     Traceback (most recent call last)",
      "\u001B[36mCell\u001B[39m\u001B[36m \u001B[39m\u001B[32mIn[1]\u001B[39m\u001B[32m, line 38\u001B[39m, in \u001B[36mdraw\u001B[39m\u001B[34m(event, x, y, flags, param)\u001B[39m\n\u001B[32m     36\u001B[39m         b = cv2.getTrackbarPos(\u001B[33m'\u001B[39m\u001B[33mB\u001B[39m\u001B[33m'\u001B[39m, \u001B[33m'\u001B[39m\u001B[33mPaint\u001B[39m\u001B[33m'\u001B[39m)\n\u001B[32m     37\u001B[39m         size = cv2.getTrackbarPos(\u001B[33m'\u001B[39m\u001B[33mPen Size\u001B[39m\u001B[33m'\u001B[39m, \u001B[33m'\u001B[39m\u001B[33mPaint\u001B[39m\u001B[33m'\u001B[39m)\n\u001B[32m---> \u001B[39m\u001B[32m38\u001B[39m         \u001B[43mcv2\u001B[49m\u001B[43m.\u001B[49m\u001B[43mline\u001B[49m\u001B[43m(\u001B[49m\u001B[43mcanvas\u001B[49m\u001B[43m,\u001B[49m\u001B[43m \u001B[49m\u001B[43m(\u001B[49m\u001B[43mix\u001B[49m\u001B[43m,\u001B[49m\u001B[43m \u001B[49m\u001B[43miy\u001B[49m\u001B[43m)\u001B[49m\u001B[43m,\u001B[49m\u001B[43m \u001B[49m\u001B[43m(\u001B[49m\u001B[43mx\u001B[49m\u001B[43m,\u001B[49m\u001B[43m \u001B[49m\u001B[43my\u001B[49m\u001B[43m)\u001B[49m\u001B[43m,\u001B[49m\u001B[43m \u001B[49m\u001B[43m(\u001B[49m\u001B[43mb\u001B[49m\u001B[43m,\u001B[49m\u001B[43m \u001B[49m\u001B[43mg\u001B[49m\u001B[43m,\u001B[49m\u001B[43m \u001B[49m\u001B[43mr\u001B[49m\u001B[43m)\u001B[49m\u001B[43m,\u001B[49m\u001B[43m \u001B[49m\u001B[43msize\u001B[49m\u001B[43m)\u001B[49m\n\u001B[32m     39\u001B[39m         ix, iy = x, y\n\u001B[32m     41\u001B[39m \u001B[38;5;28;01melif\u001B[39;00m event == cv2.EVENT_LBUTTONUP:\n",
      "\u001B[31merror\u001B[39m: OpenCV(4.11.0) D:\\a\\opencv-python\\opencv-python\\opencv\\modules\\imgproc\\src\\drawing.cpp:1823: error: (-215:Assertion failed) 0 < thickness && thickness <= MAX_THICKNESS in function 'cv::line'\n"
     ]
    },
    {
     "ename": "error",
     "evalue": "OpenCV(4.11.0) D:\\a\\opencv-python\\opencv-python\\opencv\\modules\\imgproc\\src\\drawing.cpp:1823: error: (-215:Assertion failed) 0 < thickness && thickness <= MAX_THICKNESS in function 'cv::line'\n",
     "output_type": "error",
     "traceback": [
      "\u001B[31m---------------------------------------------------------------------------\u001B[39m",
      "\u001B[31merror\u001B[39m                                     Traceback (most recent call last)",
      "\u001B[36mCell\u001B[39m\u001B[36m \u001B[39m\u001B[32mIn[1]\u001B[39m\u001B[32m, line 38\u001B[39m, in \u001B[36mdraw\u001B[39m\u001B[34m(event, x, y, flags, param)\u001B[39m\n\u001B[32m     36\u001B[39m         b = cv2.getTrackbarPos(\u001B[33m'\u001B[39m\u001B[33mB\u001B[39m\u001B[33m'\u001B[39m, \u001B[33m'\u001B[39m\u001B[33mPaint\u001B[39m\u001B[33m'\u001B[39m)\n\u001B[32m     37\u001B[39m         size = cv2.getTrackbarPos(\u001B[33m'\u001B[39m\u001B[33mPen Size\u001B[39m\u001B[33m'\u001B[39m, \u001B[33m'\u001B[39m\u001B[33mPaint\u001B[39m\u001B[33m'\u001B[39m)\n\u001B[32m---> \u001B[39m\u001B[32m38\u001B[39m         \u001B[43mcv2\u001B[49m\u001B[43m.\u001B[49m\u001B[43mline\u001B[49m\u001B[43m(\u001B[49m\u001B[43mcanvas\u001B[49m\u001B[43m,\u001B[49m\u001B[43m \u001B[49m\u001B[43m(\u001B[49m\u001B[43mix\u001B[49m\u001B[43m,\u001B[49m\u001B[43m \u001B[49m\u001B[43miy\u001B[49m\u001B[43m)\u001B[49m\u001B[43m,\u001B[49m\u001B[43m \u001B[49m\u001B[43m(\u001B[49m\u001B[43mx\u001B[49m\u001B[43m,\u001B[49m\u001B[43m \u001B[49m\u001B[43my\u001B[49m\u001B[43m)\u001B[49m\u001B[43m,\u001B[49m\u001B[43m \u001B[49m\u001B[43m(\u001B[49m\u001B[43mb\u001B[49m\u001B[43m,\u001B[49m\u001B[43m \u001B[49m\u001B[43mg\u001B[49m\u001B[43m,\u001B[49m\u001B[43m \u001B[49m\u001B[43mr\u001B[49m\u001B[43m)\u001B[49m\u001B[43m,\u001B[49m\u001B[43m \u001B[49m\u001B[43msize\u001B[49m\u001B[43m)\u001B[49m\n\u001B[32m     39\u001B[39m         ix, iy = x, y\n\u001B[32m     41\u001B[39m \u001B[38;5;28;01melif\u001B[39;00m event == cv2.EVENT_LBUTTONUP:\n",
      "\u001B[31merror\u001B[39m: OpenCV(4.11.0) D:\\a\\opencv-python\\opencv-python\\opencv\\modules\\imgproc\\src\\drawing.cpp:1823: error: (-215:Assertion failed) 0 < thickness && thickness <= MAX_THICKNESS in function 'cv::line'\n"
     ]
    }
   ],
   "execution_count": 1
  },
  {
   "metadata": {},
   "cell_type": "code",
   "outputs": [],
   "execution_count": null,
   "source": "",
   "id": "43c0cdab074156e"
  }
 ],
 "metadata": {
  "kernelspec": {
   "display_name": "Python 3",
   "language": "python",
   "name": "python3"
  },
  "language_info": {
   "codemirror_mode": {
    "name": "ipython",
    "version": 2
   },
   "file_extension": ".py",
   "mimetype": "text/x-python",
   "name": "python",
   "nbconvert_exporter": "python",
   "pygments_lexer": "ipython2",
   "version": "2.7.6"
  }
 },
 "nbformat": 4,
 "nbformat_minor": 5
}
