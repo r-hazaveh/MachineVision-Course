{
  "nbformat": 4,
  "nbformat_minor": 0,
  "metadata": {
    "colab": {
      "provenance": []
    },
    "kernelspec": {
      "name": "python3",
      "display_name": "Python 3"
    },
    "language_info": {
      "name": "python"
    }
  },
  "cells": [
    {
      "cell_type": "code",
      "execution_count": null,
      "metadata": {
        "id": "gOKHAPO873Fh"
      },
      "outputs": [],
      "source": [
        "import cv2\n",
        "import numpy as np\n",
        "from matplotlib import pyplot as plt\n",
        "\n",
        "# Load the image\n",
        "image = cv2.imread('skin-400x220.png')\n",
        "image = cv2.cvtColor(image, cv2.COLOR_BGR2RGB)  # For matplotlib display\n",
        "\n",
        "# Convert to HSV and YCrCb\n",
        "img_hsv = cv2.cvtColor(image, cv2.COLOR_RGB2HSV)\n",
        "img_ycrcb = cv2.cvtColor(image, cv2.COLOR_RGB2YCrCb)\n",
        "\n",
        "# Split channels\n",
        "H, S, V = cv2.split(img_hsv)\n",
        "Y, Cr, Cb = cv2.split(img_ycrcb)\n",
        "R, G, B = cv2.split(image)\n",
        "\n",
        "# Normalize S and V\n",
        "S = S.astype(np.float32) / 255\n",
        "V = V.astype(np.float32) / 255\n",
        "\n",
        "# Masks\n",
        "rgb_mask = (R > 95) & (G > 40) & (B > 20) & \\\n",
        "           ((np.maximum(R, np.maximum(G, B)) - np.minimum(R, np.minimum(G, B))) > 15) & \\\n",
        "           (np.abs(R - G) > 15) & (R > G) & (R > B)\n",
        "\n",
        "hsv_mask = (H >= 0) & (H <= 50) & (S >= 0.23) & (S <= 0.68) & (V >= 0.35)\n",
        "ycrcb_mask = (Cr >= 135) & (Cr <= 180) & (Cb >= 85) & (Cb <= 135)\n",
        "\n",
        "# Combined mask\n",
        "final_mask = rgb_mask & hsv_mask & ycrcb_mask\n",
        "final_mask = final_mask.astype(np.uint8) * 255\n",
        "\n",
        "# Apply mask\n",
        "skin_detected = cv2.bitwise_and(image, image, mask=final_mask)\n",
        "\n",
        "# Save result\n",
        "cv2.imwrite('skin_detected_output.png', cv2.cvtColor(skin_detected, cv2.COLOR_RGB2BGR))\n",
        "\n",
        "# Show result (optional)\n",
        "plt.figure(figsize=(12, 6))\n",
        "plt.subplot(1, 2, 1)\n",
        "plt.title(\"Original Image\")\n",
        "plt.imshow(image)\n",
        "plt.axis('off')\n",
        "\n",
        "plt.subplot(1, 2, 2)\n",
        "plt.title(\"Skin Detection Output\")\n",
        "plt.imshow(skin_detected)\n",
        "plt.axis('off')\n",
        "plt.tight_layout()\n",
        "plt.show()\n"
      ]
    }
  ]
}