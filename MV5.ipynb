{
  "nbformat": 4,
  "nbformat_minor": 0,
  "metadata": {
    "colab": {
      "provenance": []
    },
    "kernelspec": {
      "name": "python3",
      "display_name": "Python 3"
    },
    "language_info": {
      "name": "python"
    }
  },
  "cells": [
    {
      "cell_type": "code",
      "execution_count": null,
      "metadata": {
        "id": "-cAuPidUCkaj"
      },
      "outputs": [],
      "source": [
        "import numpy as np\n",
        "import cv2\n",
        "\n",
        "# مقداردهی اولیه\n",
        "color = (0, 255, 0)  # رنگ اولیه: سبز\n",
        "\n",
        "# تابع رسم مثلث\n",
        "def draw_triangle(img, center, size, color):\n",
        "    x, y = center\n",
        "    points = np.array([\n",
        "        [x, y - size],              # رأس بالا\n",
        "        [x - size, y + size],       # پایین چپ\n",
        "        [x + size, y + size]        # پایین راست\n",
        "    ])\n",
        "    cv2.drawContours(img, [points], 0, color, -1)\n",
        "\n",
        "# تابع رویداد ماوس\n",
        "def mouse_callback(event, x, y, flags, param):\n",
        "    global color\n",
        "    if event == cv2.EVENT_LBUTTONDOWN:\n",
        "        draw_triangle(img, (x, y), size=20, color=color)\n",
        "\n",
        "# ساخت تصویر مشکی و تعریف پنجره\n",
        "img = np.zeros((512, 512, 3), dtype=np.uint8)\n",
        "cv2.namedWindow(\"Triangle Drawer\")\n",
        "cv2.setMouseCallback(\"Triangle Drawer\", mouse_callback)\n",
        "\n",
        "# حلقه اصلی\n",
        "while True:\n",
        "    cv2.imshow(\"Triangle Drawer\", img)\n",
        "    key = cv2.waitKey(1) & 0xFF\n",
        "\n",
        "    if key == ord('r'):\n",
        "        color = (0, 0, 255)\n",
        "    elif key == ord('g'):\n",
        "        color = (0, 255, 0)\n",
        "    elif key == ord('b'):\n",
        "        color = (255, 0, 0)\n",
        "    elif key == 27:  # Esc برای خروج\n",
        "        break\n",
        "\n",
        "cv2.destroyAllWindows()\n"
      ]
    }
  ]
}