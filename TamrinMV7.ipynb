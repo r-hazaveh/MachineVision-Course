{
 "cells": [
  {
   "cell_type": "code",
   "id": "initial_id",
   "metadata": {
    "collapsed": true,
    "ExecuteTime": {
     "end_time": "2025-04-11T14:35:49.390761Z",
     "start_time": "2025-04-11T14:35:22.202894Z"
    }
   },
   "source": [
    "import cv2\n",
    "import numpy as np\n",
    "\n",
    "# تابع اصلاح گاما\n",
    "def adjust_gamma(image, gamma=1.0):\n",
    "    invGamma = 1.0 / gamma\n",
    "    # جدول LookUp برای تصحیح گاما\n",
    "    table = np.array([((i / 255.0) ** invGamma) * 255\n",
    "                      for i in np.arange(0, 256)]).astype(\"uint8\")\n",
    "    return cv2.LUT(image, table)\n",
    "\n",
    "# راه‌اندازی وب‌کم\n",
    "cap = cv2.VideoCapture(0)\n",
    "\n",
    "# بررسی موفقیت در باز کردن وب‌کم\n",
    "if not cap.isOpened():\n",
    "    print(\"Error: Cannot access the webcam.\")\n",
    "    exit()\n",
    "\n",
    "# مقدار گامای پیش‌فرض (می‌توانید آن را تغییر دهید)\n",
    "gamma_value = 1.5\n",
    "\n",
    "while True:\n",
    "    ret, frame = cap.read()\n",
    "    if not ret:\n",
    "        print(\"Error: Cannot read frame.\")\n",
    "        break\n",
    "\n",
    "    # اعمال اصلاح گاما\n",
    "    gamma_corrected = adjust_gamma(frame, gamma=gamma_value)\n",
    "\n",
    "    # نمایش تصویر اصلی و اصلاح‌شده\n",
    "    cv2.imshow('Original Webcam Feed', frame)\n",
    "    cv2.imshow('Gamma Corrected Feed', gamma_corrected)\n",
    "\n",
    "    # خروج با زدن کلید q\n",
    "    if cv2.waitKey(1) & 0xFF == ord('q'):\n",
    "        break\n",
    "\n",
    "# آزادسازی منابع\n",
    "cap.release()\n",
    "cv2.destroyAllWindows()\n"
   ],
   "outputs": [],
   "execution_count": 1
  },
  {
   "metadata": {},
   "cell_type": "code",
   "outputs": [],
   "execution_count": null,
   "source": "",
   "id": "6aa96f47cf0e4546"
  }
 ],
 "metadata": {
  "kernelspec": {
   "display_name": "Python 3",
   "language": "python",
   "name": "python3"
  },
  "language_info": {
   "codemirror_mode": {
    "name": "ipython",
    "version": 2
   },
   "file_extension": ".py",
   "mimetype": "text/x-python",
   "name": "python",
   "nbconvert_exporter": "python",
   "pygments_lexer": "ipython2",
   "version": "2.7.6"
  }
 },
 "nbformat": 4,
 "nbformat_minor": 5
}
