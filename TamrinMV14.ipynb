{
  "nbformat": 4,
  "nbformat_minor": 0,
  "metadata": {
    "colab": {
      "provenance": []
    },
    "kernelspec": {
      "name": "python3",
      "display_name": "Python 3"
    },
    "language_info": {
      "name": "python"
    }
  },
  "cells": [
    {
      "cell_type": "code",
      "execution_count": null,
      "metadata": {
        "id": "gOKHAPO873Fh"
      },
      "outputs": [],
      "source": [
        "import cv2\n",
        "import numpy as np\n",
        "import matplotlib.pyplot as plt\n",
        "\n",
        "# Load image\n",
        "image = cv2.imread('images/scan.jpg')\n",
        "\n",
        "# Image dimensions\n",
        "h, w = image.shape[:2]\n",
        "\n",
        "# Angle in degrees\n",
        "angle = 30\n",
        "# Translation in x-direction\n",
        "tx = 10\n",
        "\n",
        "# Create rotation + translation matrix (affine transformation)\n",
        "# First, get rotation matrix around the center\n",
        "M = cv2.getRotationMatrix2D((w/2, h/2), angle, 1)\n",
        "\n",
        "# Add translation (tx, 0) to the rotation matrix\n",
        "M[0, 2] += tx\n",
        "\n",
        "# Apply the affine transform\n",
        "rotated_translated = cv2.warpAffine(image, M, (w, h))\n",
        "\n",
        "# Save output image\n",
        "cv2.imwrite('output/rotated_translated.jpg', rotated_translated)\n",
        "\n",
        "# Display\n",
        "plt.figure(figsize=[10,10])\n",
        "plt.subplot(121),plt.imshow(image[...,::-1]),plt.title('Original')\n",
        "plt.subplot(122),plt.imshow(rotated_translated[...,::-1]),plt.title('Rotated + Translated')\n",
        "plt.show()\n"
      ]
    }
  ]
}