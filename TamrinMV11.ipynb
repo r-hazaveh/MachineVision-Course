{
  "nbformat": 4,
  "nbformat_minor": 0,
  "metadata": {
    "colab": {
      "provenance": []
    },
    "kernelspec": {
      "name": "python3",
      "display_name": "Python 3"
    },
    "language_info": {
      "name": "python"
    }
  },
  "cells": [
    {
      "cell_type": "code",
      "execution_count": null,
      "metadata": {
        "id": "i84Y5ERHNxoa"
      },
      "outputs": [],
      "source": [
        "import cv2\n",
        "import numpy as np\n",
        "\n",
        "# Load video clip\n",
        "cap = cv2.VideoCapture('D:/video.mp4')\n",
        "bg_image = cv2.imread(\"D:/background.png\")\n",
        "\n",
        "# Get the height and width of the frame\n",
        "w = int(cap.get(cv2.CAP_PROP_FRAME_WIDTH))\n",
        "h = int(cap.get(cv2.CAP_PROP_FRAME_HEIGHT))\n",
        "bg_image = cv2.resize(bg_image, (w, h))\n",
        "\n",
        "while True:\n",
        "    ret, frame = cap.read()\n",
        "    if not ret:\n",
        "        break\n",
        "    background = bg_image.copy()\n",
        "    hsv = cv2.cvtColor(frame, cv2.COLOR_BGR2HSV)\n",
        "\n",
        "    # Define two ranges for red in HSV (red is split at 0° and 180° hue)\n",
        "    lower_red1 = np.array([0, 100, 100])\n",
        "    upper_red1 = np.array([10, 255, 255])\n",
        "    lower_red2 = np.array([160, 100, 100])\n",
        "    upper_red2 = np.array([180, 255, 255])\n",
        "\n",
        "    # Create masks and combine them\n",
        "    mask1 = cv2.inRange(hsv, lower_red1, upper_red1)\n",
        "    mask2 = cv2.inRange(hsv, lower_red2, upper_red2)\n",
        "    mask = cv2.bitwise_or(mask1, mask2)\n",
        "\n",
        "    # Improve mask quality\n",
        "    kernel = cv2.getStructuringElement(cv2.MORPH_ELLIPSE, (5, 5))\n",
        "    mask = cv2.dilate(mask, kernel)\n",
        "    mask_inv = cv2.bitwise_not(mask)\n",
        "\n",
        "    removed_bg = cv2.bitwise_and(frame, frame, mask=mask_inv)\n",
        "    background = cv2.bitwise_and(background, background, mask=mask)\n",
        "\n",
        "    final = cv2.add(removed_bg, background)\n",
        "    cv2.imshow(\"result\", final)\n",
        "    cv2.waitKey(25)\n",
        "\n",
        "cap.release()\n",
        "cv2.destroyAllWindows()\n"
      ]
    }
  ]
}