{
  "nbformat": 4,
  "nbformat_minor": 0,
  "metadata": {
    "colab": {
      "provenance": []
    },
    "kernelspec": {
      "name": "python3",
      "display_name": "Python 3"
    },
    "language_info": {
      "name": "python"
    }
  },
  "cells": [
    {
      "cell_type": "code",
      "execution_count": 1,
      "metadata": {
        "colab": {
          "base_uri": "https://localhost:8080/"
        },
        "id": "OZQEwacWY78F",
        "outputId": "7c961150-8a26-4881-e8b6-8e470713aeda"
      },
      "outputs": [
        {
          "output_type": "execute_result",
          "data": {
            "text/plain": [
              "True"
            ]
          },
          "metadata": {},
          "execution_count": 1
        }
      ],
      "source": [
        "import cv2\n",
        "import numpy as np\n",
        "\n",
        "# Load the original image\n",
        "image = cv2.imread('face.jpg')  # Make sure the file is in the working directory\n",
        "\n",
        "# Define coordinates for the face region (x, y, width, height)\n",
        "x, y, w, h = 180, 100, 220, 220\n",
        "\n",
        "# Crop the face region\n",
        "face_region = image[y:y+h, x:x+w]\n",
        "\n",
        "# Create a 7x7 uniform kernel\n",
        "kernel_7x7 = np.ones((7, 7), np.float32) / 49\n",
        "\n",
        "# Apply the filter using cv2.filter2D\n",
        "blurred_face = cv2.filter2D(face_region, -1, kernel_7x7)\n",
        "\n",
        "# Replace the original face region with the blurred one\n",
        "image[y:y+h, x:x+w] = blurred_face\n",
        "\n",
        "# Save the final result\n",
        "cv2.imwrite('uniform_blurred_face.jpg', image)\n"
      ]
    }
  ]
}